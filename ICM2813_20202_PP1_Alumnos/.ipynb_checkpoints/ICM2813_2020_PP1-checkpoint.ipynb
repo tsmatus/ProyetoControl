{
 "cells": [
  {
   "cell_type": "markdown",
   "metadata": {},
   "source": [
    "## ICM2813 2020-2\n",
    "# Proyecto Practico \\#1\n",
    "\n",
    "El siguiente proyecto busca que usted pueda implementar un control PID de modo de poder controlar la posición de un motor con una barra y analizar los resultados."
   ]
  },
  {
   "cell_type": "markdown",
   "metadata": {},
   "source": [
    "# Diseño del controlador"
   ]
  },
  {
   "cell_type": "markdown",
   "metadata": {},
   "source": [
    "Diseñar un controlador que permita mover la barra desde 0 grados (vertical) a 90 grados. Se le solicita que diseñe un controlador que permita hacer esto siguiendo las restricciones definidas en el enunciado del PP1."
   ]
  },
  {
   "cell_type": "code",
   "execution_count": null,
   "metadata": {},
   "outputs": [
    {
     "name": "stdout",
     "output_type": "stream",
     "text": [
      "\n",
      "  Running B0 Remote API client with channel name [icm2813_motor]\n",
      "  make sure that: 1) the B0 resolver is running\n",
      "                  2) CoppeliaSim is running the B0 Remote API server with the same channel name\n",
      "  Initializing...\n",
      "\n",
      "\n",
      "  Connected!\n",
      "\n",
      "Inicializando Motor\n"
     ]
    }
   ],
   "source": [
    "from ICM2813.Server import Motor\n",
    "import numpy as np\n",
    "\n",
    "class MiControlador(Motor):\n",
    "    def __init__(self):\n",
    "        self.stop()        # detener simualción al principio\n",
    "        super().__init__() # no modificar\n",
    "        # Las siguientes variables son de ejemplo y puede agregar o eliminar según lo necesite.\n",
    "        # Estas variables son útiles para almacenar valores entre cada iteración de su controlador\n",
    "        self.t = []\n",
    "        self.theta = []\n",
    "\n",
    "    def control(self, theta, t):\n",
    "        '''\n",
    "        Esta función es la única que se requiere para poder correr el programa. Si lo desea puede agregar más  \n",
    "        funciones a la clase MiControlador. Esta función recibe como entrada (ya calculada) lo siguiente:\n",
    "        * theta: Que corresponde al ángulo del motor en radianes (+/-pi)\n",
    "        * t: tiempo entre cada vez que se le actualizan los comandos al robot (50 ms)\n",
    "        A continuación se presenta un código para mover el motor en forma continua que debe modificar\n",
    "        para implementar su controlador PID\n",
    "        '''\n",
    "        \n",
    "        # Definir PWM a aplicar en el motor (voltaje)\n",
    "        pwm_motor = 50\n",
    "        \n",
    "        # Almacenar variables que desee aquí\n",
    "        # print(\"{:.3f},\\t{:.2f}\".format(t,np.rad2deg(theta)))\n",
    "        self.t.append(t)\n",
    "        self.theta.append(np.rad2deg(theta))\n",
    "\n",
    "        #Detender simulación después de un tiempo\n",
    "        if t >= 10:\n",
    "            self.stop()\n",
    "\n",
    "        return pwm_motor\n",
    "\n",
    "m = MiControlador()\n",
    "m.run()"
   ]
  },
  {
   "cell_type": "markdown",
   "metadata": {},
   "source": [
    "# Análisis de Resultados\n",
    "Al terminar la simualción puede graficar y analizar resultados aquí. A continuación un ejemplo que puede modificar libremente. Recuerde entregar gráficos con título, nombre de ejes, unidades, etc."
   ]
  },
  {
   "cell_type": "code",
   "execution_count": null,
   "metadata": {},
   "outputs": [],
   "source": [
    "%pylab inline\n",
    "plot(m.t,m.theta)"
   ]
  },
  {
   "cell_type": "code",
   "execution_count": null,
   "metadata": {},
   "outputs": [],
   "source": []
  }
 ],
 "metadata": {
  "kernelspec": {
   "display_name": "Python 3",
   "language": "python",
   "name": "python3"
  },
  "language_info": {
   "codemirror_mode": {
    "name": "ipython",
    "version": 3
   },
   "file_extension": ".py",
   "mimetype": "text/x-python",
   "name": "python",
   "nbconvert_exporter": "python",
   "pygments_lexer": "ipython3",
   "version": "3.8.3"
  }
 },
 "nbformat": 4,
 "nbformat_minor": 4
}
